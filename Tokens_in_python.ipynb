{
  "nbformat": 4,
  "nbformat_minor": 0,
  "metadata": {
    "colab": {
      "provenance": [],
      "authorship_tag": "ABX9TyMdCfYFzRCmod+k/+Y1KTfA",
      "include_colab_link": true
    },
    "kernelspec": {
      "name": "python3",
      "display_name": "Python 3"
    },
    "language_info": {
      "name": "python"
    }
  },
  "cells": [
    {
      "cell_type": "markdown",
      "metadata": {
        "id": "view-in-github",
        "colab_type": "text"
      },
      "source": [
        "<a href=\"https://colab.research.google.com/github/GithubforSaad/PythonwithSaad/blob/main/Tokens_in_python.ipynb\" target=\"_parent\"><img src=\"https://colab.research.google.com/assets/colab-badge.svg\" alt=\"Open In Colab\"/></a>"
      ]
    },
    {
      "cell_type": "code",
      "execution_count": 1,
      "metadata": {
        "id": "bTaG188sEG9b"
      },
      "outputs": [],
      "source": [
        "#The key words in python is:\n",
        "# False Ture None and as class def del elif Finally For Form Global is if lambda return\n",
        "# Try While With Yield"
      ]
    },
    {
      "cell_type": "code",
      "source": [
        "Lise=\"I am lisa\"\n",
        "lise=\"I am fine\""
      ],
      "metadata": {
        "id": "OmCrcWAkFi7R"
      },
      "execution_count": 6,
      "outputs": []
    },
    {
      "cell_type": "code",
      "source": [
        "Lise"
      ],
      "metadata": {
        "colab": {
          "base_uri": "https://localhost:8080/",
          "height": 35
        },
        "id": "fnbJDlGZFnaN",
        "outputId": "790d5f78-06c9-4d2b-a49c-c498e95704e8"
      },
      "execution_count": 8,
      "outputs": [
        {
          "output_type": "execute_result",
          "data": {
            "text/plain": [
              "'I am lisa'"
            ],
            "application/vnd.google.colaboratory.intrinsic+json": {
              "type": "string"
            }
          },
          "metadata": {},
          "execution_count": 8
        }
      ]
    },
    {
      "cell_type": "code",
      "source": [
        "lise"
      ],
      "metadata": {
        "colab": {
          "base_uri": "https://localhost:8080/",
          "height": 35
        },
        "id": "4FflqwRgGd5S",
        "outputId": "4c63a21d-f9d7-4b00-bddc-4197e0fdb773"
      },
      "execution_count": 9,
      "outputs": [
        {
          "output_type": "execute_result",
          "data": {
            "text/plain": [
              "'I am fine'"
            ],
            "application/vnd.google.colaboratory.intrinsic+json": {
              "type": "string"
            }
          },
          "metadata": {},
          "execution_count": 9
        }
      ]
    },
    {
      "cell_type": "code",
      "source": [
        "s1=\"sparta\""
      ],
      "metadata": {
        "id": "kCpPL9gyGkuS"
      },
      "execution_count": 10,
      "outputs": []
    },
    {
      "cell_type": "code",
      "source": [
        "s1=123"
      ],
      "metadata": {
        "id": "eqYMPmyVGySJ"
      },
      "execution_count": 11,
      "outputs": []
    },
    {
      "cell_type": "code",
      "source": [
        "s1=True"
      ],
      "metadata": {
        "id": "WWx7zTkuG2Ks"
      },
      "execution_count": 12,
      "outputs": []
    },
    {
      "cell_type": "code",
      "source": [],
      "metadata": {
        "id": "V2sP5OLRG8Qp"
      },
      "execution_count": null,
      "outputs": []
    }
  ]
}