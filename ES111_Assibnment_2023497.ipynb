{
  "nbformat": 4,
  "nbformat_minor": 0,
  "metadata": {
    "colab": {
      "provenance": [],
      "authorship_tag": "ABX9TyMnz3sQPkG2FlkQcV1ACZXa",
      "include_colab_link": true
    },
    "kernelspec": {
      "name": "python3",
      "display_name": "Python 3"
    },
    "language_info": {
      "name": "python"
    }
  },
  "cells": [
    {
      "cell_type": "markdown",
      "metadata": {
        "id": "view-in-github",
        "colab_type": "text"
      },
      "source": [
        "<a href=\"https://colab.research.google.com/github/GithubforSaad/PythonwithSaad/blob/main/ES111_Assibnment_2023497.ipynb\" target=\"_parent\"><img src=\"https://colab.research.google.com/assets/colab-badge.svg\" alt=\"Open In Colab\"/></a>"
      ]
    },
    {
      "cell_type": "code",
      "execution_count": null,
      "metadata": {
        "id": "I2dOiyZ-RwAu"
      },
      "outputs": [],
      "source": []
    },
    {
      "cell_type": "markdown",
      "source": [
        "**DATA**:\n",
        "In a study conducted by the Department of Mechanical Engineering at Virginia Tech, the steel rods\n",
        "supplied by two different companies were compared.\n",
        "Ten sample springs were made out of the steel rods\n",
        "supplied by each company, and a measure of flexibility\n",
        "was recorded for each. The data are as follows:\n",
        "Company A: 9.3 8.8 6.8 8.7 8.5\n",
        "6.7 8.0 6.5 9.2 7.0\n",
        "Company B: 11.0 9.8 9.9 10.2 10.1\n",
        "9.7 11.0 11.1 10.2 9.6             \n",
        "1) Calculate the sample mean and median for the data\n",
        "for the two companies\n"
      ],
      "metadata": {
        "id": "OLp_T2z6Ta0A"
      }
    },
    {
      "cell_type": "code",
      "source": [
        "#2023497\n",
        "\n",
        "#python Assigniment for ES111\n",
        "\n",
        "import statistics\n",
        "\n",
        "list_1=[9.3,8.8,6.8,8.7,8.5,6.7,8.0,6.5,9.2,7.0]\n",
        "list_2=[11.0,9.8,9.9,10.2,10.1,9.7,11.0,11.1,10.2,9.6]\n",
        "\n",
        "#finding the mean of given data\n",
        "\n",
        "print(\"The mean of the list_1 values: \",end=\"\")\n",
        "print(statistics.mean(list_1))\n",
        "print(\"The mean of the list_2 values: \",end=\"\")\n",
        "print(statistics.mean(list_2))"
      ],
      "metadata": {
        "colab": {
          "base_uri": "https://localhost:8080/"
        },
        "id": "OQOkXKM7Ufso",
        "outputId": "43afdf8d-3c6d-421b-b538-b72b51807588"
      },
      "execution_count": 1,
      "outputs": [
        {
          "output_type": "stream",
          "name": "stdout",
          "text": [
            "The mean of the list_1 values: 7.95\n",
            "The mean of the list_2 values: 10.26\n"
          ]
        }
      ]
    },
    {
      "cell_type": "code",
      "source": [
        "#finding the meadian of the data\n",
        "\n",
        "from statistics import median\n",
        "\n",
        "print(\"The meadian of the list-1 values: \",end=\" \")\n",
        "print(median(list_1))\n",
        "\n",
        "print(\"The meadian of the list-2 values: \",end=\" \")\n",
        "print(median(list_2))"
      ],
      "metadata": {
        "colab": {
          "base_uri": "https://localhost:8080/"
        },
        "id": "aq7H9HEIW1tm",
        "outputId": "e0eb5897-9f77-4f48-a731-17f60ccaea85"
      },
      "execution_count": 4,
      "outputs": [
        {
          "output_type": "stream",
          "name": "stdout",
          "text": [
            "The meadian of the list-1 values:  8.25\n",
            "The meadian of the list-2 values:  10.149999999999999\n"
          ]
        }
      ]
    },
    {
      "cell_type": "markdown",
      "source": [
        "**DATA**:\n",
        "The following data represent the length of life,\n",
        "in seconds, of 10 fruit flies subject to a new spray in a\n",
        "controlled laboratory experiment:\n",
        "17 20 10 9 20 13 12 19 20 24\n",
        "\n",
        "1) Calculate the mode of the of data.\n",
        "\n"
      ],
      "metadata": {
        "id": "UBb24HCbanI6"
      }
    },
    {
      "cell_type": "code",
      "source": [
        "from statistics import mode\n",
        "list_3=[17, 20, 10, 9, 20, 13, 12, 19, 20, 24]\n",
        "print(\"The mode of the list_3 values: \",end=\" \")\n",
        "print(mode(list_3))"
      ],
      "metadata": {
        "colab": {
          "base_uri": "https://localhost:8080/"
        },
        "id": "ybVQFm1TY5dT",
        "outputId": "7758d8c9-3515-4130-ee11-d2142525f070"
      },
      "execution_count": 5,
      "outputs": [
        {
          "output_type": "stream",
          "name": "stdout",
          "text": [
            "The mode of the list_3 values:  20\n"
          ]
        }
      ]
    },
    {
      "cell_type": "markdown",
      "source": [
        "**DATA**: A study of the effects of smoking on sleep patterns is conducted. The measure observed is the time,\n",
        "in minutes, that it takes to fall asleep. These data are\n",
        "obtained:   \n",
        "Smokers:   69.3 56.0 22.1 47.6\n",
        "53.2 48.1 52.7 34.4\n",
        "60.2 43.8 23.2 13.8   \n",
        "Nonsmokers:  28.6 25.1 26.4 34.9\n",
        "29.8 28.4 38.5 30.2\n",
        "30.6 31.8 41.6 21.1\n",
        "36.0 37.9 13.9"
      ],
      "metadata": {
        "id": "X2ywbKIJc-lT"
      }
    },
    {
      "cell_type": "code",
      "source": [
        "from sre_constants import RANGE\n",
        "#to find the range\n",
        "list_4=[69.3,56.0,22.1, 47.6, 53.2, 48.1, 52.7, 34.4, 60.2, 43.8, 23.2, 13.8]\n",
        "list_5=[28.6, 25.1, 26.4, 34.9, 29.8, 28.4, 38.5, 30.2, 30.6, 31.8, 41.6, 21.1, 36.0, 37.9, 13.9]\n",
        "#The range for list_4\n",
        "print(\"The minimium number of list_4: \",end=\" \")\n",
        "print(min(list_4))\n",
        "print(\"The maximium number: \",end=\" \")\n",
        "print(max(list_4))\n",
        "print(\"The range of list_4: \",end=\" \")\n",
        "RANGE=max(list_4)-min(list_4)\n",
        "print(RANGE)\n",
        "\n",
        "#The range for list_5\n",
        "print(\"The minimium number of list_5: \",end=\" \")\n",
        "print(min(list_5))\n",
        "print(\"The maximium number: \",end=\" \")\n",
        "print(max(list_5))\n",
        "print(\"The range of list_5: \",end=\" \")\n",
        "RANGE=max(list_5)-min(list_5)\n",
        "print(RANGE)"
      ],
      "metadata": {
        "colab": {
          "base_uri": "https://localhost:8080/"
        },
        "id": "ryd55megcmoR",
        "outputId": "63469352-623c-4ad9-d201-4bedeca8ded0"
      },
      "execution_count": 8,
      "outputs": [
        {
          "output_type": "stream",
          "name": "stdout",
          "text": [
            "The minimium number of list_4:  13.8\n",
            "The maximium number:  69.3\n",
            "The range of list_4:  55.5\n",
            "The minimium number of list_5:  13.9\n",
            "The maximium number:  41.6\n",
            "The range of list_5:  27.700000000000003\n"
          ]
        }
      ]
    },
    {
      "cell_type": "code",
      "source": [
        "#To find the variance of number\n",
        "from statistics import variance\n",
        "#find variance of list_4\n",
        "print(\"The variance of list_4: \",end=\" \")\n",
        "print(variance(list_4))\n",
        "#find variance of list_5\n",
        "print(\"The variance of list_5: \",end=\" \")\n",
        "print(variance(list_5))\n"
      ],
      "metadata": {
        "colab": {
          "base_uri": "https://localhost:8080/"
        },
        "id": "kV72afbrfxSh",
        "outputId": "41f3d6af-d45c-4aab-d970-1ad038fe278f"
      },
      "execution_count": 9,
      "outputs": [
        {
          "output_type": "stream",
          "name": "stdout",
          "text": [
            "The variance of list_4:  286.5490909090909\n",
            "The variance of list_5:  50.806\n"
          ]
        }
      ]
    },
    {
      "cell_type": "code",
      "source": [
        "#To find the standard deviation\n",
        "from statistics import stdev\n",
        "# Find the standard deviation of list_4\n",
        "print(\"The standard deviation of list_4: \",end=\" \")\n",
        "print(stdev(list_4))\n",
        "# Find the standard deviation of list_5\n",
        "print(\"The standard deviation of list_5: \",end=\" \")\n",
        "print(stdev(list_5))"
      ],
      "metadata": {
        "colab": {
          "base_uri": "https://localhost:8080/"
        },
        "id": "BvosKn8Chzuz",
        "outputId": "558e9d46-5cfd-4469-d88e-b032419e2a62"
      },
      "execution_count": 10,
      "outputs": [
        {
          "output_type": "stream",
          "name": "stdout",
          "text": [
            "The standard deviation of list_4:  16.927760953802807\n",
            "The standard deviation of list_5:  7.127832770204419\n"
          ]
        }
      ]
    },
    {
      "cell_type": "code",
      "source": [
        "# To generate the number\n",
        "import random\n",
        "random_number = random.randint(0, 9)\n",
        "print(f\"Random number between 0 and 9: {random_number}\")\n"
      ],
      "metadata": {
        "colab": {
          "base_uri": "https://localhost:8080/"
        },
        "id": "q09GPzHwi-aK",
        "outputId": "cd252eeb-a3ef-4303-fa49-4d04ec83d856"
      },
      "execution_count": 3,
      "outputs": [
        {
          "output_type": "stream",
          "name": "stdout",
          "text": [
            "Random number between 0 and 9: 6\n"
          ]
        }
      ]
    },
    {
      "cell_type": "code",
      "source": [
        "# to find the covariance of two data set\n",
        "import numpy as np\n",
        "list_6=[69.3, 56.0, 22.1, 47.6,]\n",
        "list_7=[28.6, 25.1, 26.4, 34.9]\n",
        "\n",
        "covariance_matrix=np.cov(list_6, list_7)\n",
        "print(\"Covariance matrix: \")\n",
        "print(covariance_matrix)\n"
      ],
      "metadata": {
        "colab": {
          "base_uri": "https://localhost:8080/"
        },
        "id": "IsRQuuBC2xvb",
        "outputId": "7cc50624-c32e-43ab-bcd7-0c316bb6bf37"
      },
      "execution_count": 8,
      "outputs": [
        {
          "output_type": "stream",
          "name": "stdout",
          "text": [
            "Covariance matrix: \n",
            "[[395.47         8.67      ]\n",
            " [  8.67        18.89666667]]\n"
          ]
        }
      ]
    },
    {
      "cell_type": "markdown",
      "source": [
        "**DATA**: The following scores represent the final examination grades for an elementary statistics course:    \n",
        "23 60 79 32 57 74 52 70 82\n",
        "36 80 77 81 95 41 65 92 85\n",
        "55 76 52 10 64 75 78 25 80\n",
        "98 81 67 41 71 83 54 64 72\n",
        "88 62 74 43 60 78 89 76 84\n",
        "48 84 90 15 79 34 67 17 82\n",
        "69 74 63 80 85 61"
      ],
      "metadata": {
        "id": "dIPCbtcw7JZK"
      }
    },
    {
      "cell_type": "code",
      "source": [
        "import matplotlib.pyplot as plt\n",
        "import numpy as np\n",
        "\n",
        "list_8=[23, 60, 79, 32, 57, 74, 52, 70, 82, 36, 80, 77, 81, 95, 41, 65, 92, 85,\n",
        "        55, 76, 52, 10, 64, 75, 78, 25, 80, 98, 81,67, 41, 71, 83, 54, 64, 72, 88,\n",
        "        62, 74 ,43,60, 78, 89, 76, 84, 48, 84, 90, 15, 79, 34, 67, 17, 82, 69, 74, 63, 80, 85, 61,]\n",
        "list_8=np.array(list_8)\n",
        "plt.hist(list_8, bins=[0,10,20,30,40,50,60,70,80,90])\n",
        "plt.show()\n",
        "\n",
        "\n"
      ],
      "metadata": {
        "colab": {
          "base_uri": "https://localhost:8080/",
          "height": 430
        },
        "id": "HSlD6hAI5qtG",
        "outputId": "05a6a0d7-6621-4ca5-b05c-24004143fcf4"
      },
      "execution_count": 13,
      "outputs": [
        {
          "output_type": "display_data",
          "data": {
            "text/plain": [
              "<Figure size 640x480 with 1 Axes>"
            ],
            "image/png": "[encoded data removed]"
          },
          "metadata": {}
        }
      ]
    },
    {
      "cell_type": "code",
      "source": [
        "import matplotlib.pyplot as plt\n",
        "list_9=[7,20,10,9,23,13,12,19,18, 24,12,14,6]\n",
        "plt.pie(list_9)\n",
        "plt.show()"
      ],
      "metadata": {
        "colab": {
          "base_uri": "https://localhost:8080/",
          "height": 406
        },
        "id": "LYvPEA4U9vCG",
        "outputId": "9c2c9c01-4684-4fef-ad22-42d7685fa0c2"
      },
      "execution_count": 17,
      "outputs": [
        {
          "output_type": "display_data",
          "data": {
            "text/plain": [
              "<Figure size 640x480 with 1 Axes>"
            ],
            "image/png": "[encoded data removed]"
          },
          "metadata": {}
        }
      ]
    },
    {
      "cell_type": "markdown",
      "source": [
        "**DATA**:\n",
        "Consider the situation of Exercise 1.28. But now\n",
        "use the following data set, in which shrinkage is measured once again at low injection velocity and high injection velocity. However, this time the mold temperature is raised to a high level and held constant.                  \n",
        "Shrinkage values at low injection velocity:          \n",
        "76.20 76.09 75.98 76.15 76.17\n",
        "75.94 76.12 76.18 76.25 75.82         \n",
        "Shrinkage values at high injection velocity:          \n",
        "93.25 93.19 92.87 93.29 93.37\n",
        "92.98 93.47 93.75 93.89 91.62"
      ],
      "metadata": {
        "id": "nSEXcz69FXlj"
      }
    },
    {
      "cell_type": "code",
      "source": [
        "import matplotlib.pyplot as plt\n",
        "list_10=[76.20,76.09,75.98,76.15,76.17,75.94,76.12,76.18,76.25,75.82]\n",
        "list_11=[93.25,93.19,92.87,93.29,93.37,92.98,93.47,93.75,93.89,91.62]\n",
        "plt.scatter(list_10, list_11, color=\"blue\")\n",
        "plt.xlabel(\"X-axis\")\n",
        "plt.ylabel(\"Y-axis\")\n",
        "plt.title(\"Basic Scatter Plot\")\n",
        "plt.show()"
      ],
      "metadata": {
        "colab": {
          "base_uri": "https://localhost:8080/",
          "height": 472
        },
        "id": "BHLjbDKIAX8k",
        "outputId": "80e6825d-ebc7-4602-dbdf-0514e243d35b"
      },
      "execution_count": 28,
      "outputs": [
        {
          "output_type": "display_data",
          "data": {
            "text/plain": [
              "<Figure size 640x480 with 1 Axes>"
            ],
            "image/png": "[encoded data removed]"
          },
          "metadata": {}
        }
      ]
    },
    {
      "cell_type": "code",
      "source": [
        "import matplotlib.pyplot as plt\n",
        "list_12=[\"Maths\",\"History\",\"Physics\",\"Computer\"]\n",
        "list_13=[20,32,15,45]\n",
        "plt.bar(list_12,list_13)\n",
        "plt.show()\n"
      ],
      "metadata": {
        "colab": {
          "base_uri": "https://localhost:8080/",
          "height": 430
        },
        "id": "-mjVRBG6Gkw7",
        "outputId": "60fc6d40-09eb-44ea-b9c4-fd31aa623fbc"
      },
      "execution_count": 31,
      "outputs": [
        {
          "output_type": "display_data",
          "data": {
            "text/plain": [
              "<Figure size 640x480 with 1 Axes>"
            ],
            "image/png": "[encoded data removed]"
          },
          "metadata": {}
        }
      ]
    },
    {
      "cell_type": "code",
      "source": [],
      "metadata": {
        "id": "JVUeMWqCK6bk"
      },
      "execution_count": null,
      "outputs": []
    }
  ]
}